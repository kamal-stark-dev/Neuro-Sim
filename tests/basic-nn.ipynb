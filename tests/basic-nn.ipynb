{
 "cells": [
  {
   "cell_type": "markdown",
   "metadata": {},
   "source": [
    "### Basic NN -\n",
    "1. Input Layer\n",
    "    - Inputs\n",
    "    - Weights\n",
    "    - Biases\n",
    "2. Hidden Layer\n",
    "    - Submission\n",
    "    - Activation\n",
    "3. Output Layer"
   ]
  },
  {
   "cell_type": "code",
   "execution_count": 2,
   "metadata": {},
   "outputs": [
    {
     "name": "stdout",
     "output_type": "stream",
     "text": [
      "Output: 7.5\n"
     ]
    }
   ],
   "source": [
    "# inputs, weights and bias\n",
    "inputs = [1, 2, 3]\n",
    "weights = [-1, 2, 0.5]\n",
    "bias = 3\n",
    "\n",
    "# output = sum(intputs[i] * weights[i]) + bias\n",
    "output = bias\n",
    "for i, j in zip(inputs, weights):\n",
    "    output += i * j\n",
    "\n",
    "print('Output:', output)"
   ]
  },
  {
   "cell_type": "code",
   "execution_count": 7,
   "metadata": {},
   "outputs": [
    {
     "name": "stdout",
     "output_type": "stream",
     "text": [
      "Output: [4.800000000000001, 1.21, 2.385]\n"
     ]
    }
   ],
   "source": [
    "# let's add 3 nodes in the next layer\n",
    "\n",
    "inputs = [1, 2, 3, 2.5]\n",
    "\n",
    "weights_1 = [0.2, 0.8, -0.5, 1.0]\n",
    "weights_2 = [0.5, -0.91, 0.26, -0.5]\n",
    "weights_3 = [-0.26, -0.27, 0.17, 0.87]\n",
    "\n",
    "bias_1 = 2\n",
    "bias_2 = 3\n",
    "bias_3 = 0.5\n",
    "\n",
    "# layer 1\n",
    "output_1 = bias_1\n",
    "for i, j in zip(inputs, weights_1):\n",
    "    output_1 += i * j\n",
    "\n",
    "# layer 2\n",
    "output_2 = bias_2\n",
    "for i, j in zip(inputs, weights_2):\n",
    "    output_2 += i * j\n",
    "\n",
    "# layer 3\n",
    "output_3 = bias_3\n",
    "for i, j in zip(inputs, weights_3):\n",
    "    output_3 += i * j\n",
    "\n",
    "output = [output_1, output_2, output_3]\n",
    "\n",
    "print(f'Output: {output}')"
   ]
  },
  {
   "cell_type": "code",
   "execution_count": 8,
   "metadata": {},
   "outputs": [
    {
     "name": "stdout",
     "output_type": "stream",
     "text": [
      "Output: [4.800000000000001, 1.21, 2.385]\n"
     ]
    }
   ],
   "source": [
    "inputs = [1, 2, 3, 2.5]\n",
    "node_weights = [\n",
    "    [0.2, 0.8, -0.5, 1.0],\n",
    "    [0.5, -0.91, 0.26, -0.5],\n",
    "    [-0.26, -0.27, 0.17, 0.87]\n",
    "]\n",
    "biases = [2, 3, 0.5]\n",
    "\n",
    "# funtional dynamic approach\n",
    "outputs = []\n",
    "for weights, bias in zip(node_weights, biases):\n",
    "    node_output = bias\n",
    "    for input, weight in zip(inputs, weights):\n",
    "        node_output += input * weight\n",
    "    outputs.append(node_output)\n",
    "\n",
    "print(f\"Output: {outputs}\")"
   ]
  },
  {
   "cell_type": "markdown",
   "metadata": {},
   "source": [
    "### Difference between weights and biases -\n",
    "\n",
    "**Weights** are used to scale up or scale down a certain input value -> `input * weight` <br>\n",
    "- weights determine how much importance to give to a node's input influencing the final output.\n",
    "$$\n",
    "input = -0.5, weight = 0.7 \\\\\n",
    "input * weight = -0.5 * 0.7 = -0.35\n",
    "$$\n",
    "\n",
    "**Biases** are used to produce non-zero values by adding some constant value -> `input + bias` <br>\n",
    "- biases are used to adjust decision boundary, allowing better fitting of training data.\n",
    "$$\n",
    "input = -0.5, bias = 0.7 \\\\\n",
    "input + bias = -0.5 + 0.7 = 0.2\n",
    "$$\n",
    "\n",
    "<div style=\"text-align: center;\">\n",
    "    <br>\n",
    "    <h3>Effect of <i>Bias</i> and <i>Weight</i> -</h3> \n",
    "    <img src=\"../assets/tests/bias-&-weight-effect.png\" alt=\"Effect of Bias and Weights\" style=\" width: 60%;\">\n",
    "</div>"
   ]
  },
  {
   "cell_type": "markdown",
   "metadata": {},
   "source": [
    "### Shape - \n",
    "$$\n",
    "Array: [1, 4, 2, 8, 9] \\\\ Shape: (5,), \\ Type: 1D \\ Aarray, \\ Vector\n",
    "\\\\ \\ \\\\\n",
    "2D Array: [ \\ [1, 2, 3], \\ [4, 5, 6] \\ ] \\\\ Shape: (2, 3), \\ Type: 2D \\ Array, \\ Matrix\n",
    "\\\\ \\ \\\\\n",
    "3D Array: [ \\ [ \\ [1, 2], [3, 4] \\ ], \\ [ \\ [5, 6], [7, 8] \\ ] \\ ] \\\\ Shape: (2, 2, 2), \\ Type: 3D \\ Array, \\ Tensor\n",
    "$$\n",
    "\n",
    "### Dot Product - \n",
    "$$\n",
    "\\text{Dot Product of Vectors:} \\\\\n",
    "\\mathbf{a} = [a_1, a_2, a_3], \\ \\mathbf{b} = [b_1, b_2, b_3] \\\\\n",
    "\\mathbf{a} \\cdot \\mathbf{b} = a_1 \\cdot b_1 + a_2 \\cdot b_2 + a_3 \\cdot b_3 \\\\\n",
    "\\\\ \\ \\\\\n",
    "\\text{Example:} \\\\\n",
    "\\mathbf{a} = [1, 2, 3], \\ \\mathbf{b} = [4, 5, 6] \\\\\n",
    "\\mathbf{a} \\cdot \\mathbf{b} = 1 \\cdot 4 + 2 \\cdot 5 + 3 \\cdot 6 = 4 + 10 + 18 = 32\n",
    "$$"
   ]
  },
  {
   "cell_type": "code",
   "execution_count": 2,
   "metadata": {},
   "outputs": [],
   "source": [
    "# importing numpy for complex operations\n",
    "import numpy as np"
   ]
  },
  {
   "cell_type": "code",
   "execution_count": 5,
   "metadata": {},
   "outputs": [
    {
     "name": "stdout",
     "output_type": "stream",
     "text": [
      "Output: 4.8\n"
     ]
    }
   ],
   "source": [
    "# dot product\n",
    "inputs = [1, 2, 3, 2.5]\n",
    "weights = [0.2, 0.8, -0.5, 1.0]\n",
    "bias = 2\n",
    "\n",
    "output = np.dot(inputs, weights) + bias\n",
    "print('Output:', output)"
   ]
  },
  {
   "cell_type": "code",
   "execution_count": 8,
   "metadata": {},
   "outputs": [
    {
     "name": "stdout",
     "output_type": "stream",
     "text": [
      "Output: [4.8   1.21  2.385]\n"
     ]
    }
   ],
   "source": [
    "# dot product for layers\n",
    "inputs = [1, 2, 3, 2.5]\n",
    "weights = [\n",
    "    [0.2, 0.8, -0.5, 1.0],\n",
    "    [0.5, -0.91, 0.26, -0.5],\n",
    "    [-0.26, -0.27, 0.17, 0.87]\n",
    "]\n",
    "biases = [2, 3, 0.5]\n",
    "\n",
    "outputs = np.dot(weights, inputs) + biases # NOTE: this time we have put weights first (can't interchange them)\n",
    "print('Output:', outputs)\n",
    "\n",
    "\"\"\"\n",
    "What's happening ?\n",
    "\n",
    ">> np.dot(weights, inputs) = [np.dot(weights[0], inputs), np.dot(weights[1], inputs), np.dot(weights[2], inputs)] = [2.8, -1.79, 1.885]\n",
    "\n",
    ">> [2.8, -1.79, 1.885] + [2, 3, 0.5] = [4.8, 1.21, 2.385] (result)\n",
    "\"\"\""
   ]
  },
  {
   "cell_type": "code",
   "execution_count": 6,
   "metadata": {},
   "outputs": [
    {
     "name": "stdout",
     "output_type": "stream",
     "text": [
      "Output:\n",
      " [[ 4.8    1.21   2.385]\n",
      " [ 8.9   -1.81   0.2  ]\n",
      " [ 1.41   1.051  0.026]]\n"
     ]
    }
   ],
   "source": [
    "\"\"\"\n",
    "We'll now be using batches for multiple layers and nodes. But why batches?\n",
    "- helps with generalization (https://youtu.be/TEWy9vZcxW4?si=yWBcVOBTcUBNLZOf&t=295)\n",
    "- can calculated things in parallel (GPU (100s of cores) > CPU (8-12 cores))\n",
    "\n",
    "But why not just give all the data samples at once (why batches)?\n",
    "- could lead to overfitting\n",
    "\n",
    "A batch size of `32` is commonly used. (but it can be more or less)\n",
    "\"\"\"\n",
    "\n",
    "# shape - (3, 4)\n",
    "inputs = [\n",
    "    [1, 2, 3, 2.5],\n",
    "    [2, 5, -1, 2],\n",
    "    [-1.5, 2.7, 3.3, -0.8]\n",
    "]\n",
    "# shape - (3, 4)\n",
    "weights = [\n",
    "    [0.2, 0.8, -0.5, 1.0],\n",
    "    [0.5, -0.91, 0.26, -0.5],\n",
    "    [-0.26, -0.27, 0.17, 0.87]\n",
    "]\n",
    "biases = [2, 3, 0.5]\n",
    "\n",
    "# we can't do np.dot(weights, inputs) --> will give shape error `ValueError: shapes (3,4) and (3,4) not aligned: 4 (dim 1) != 3 (dim 0)`\n",
    "\n",
    "output = np.dot(inputs, np.array(weights).T) + biases # the dimensions of weights.T is (4, 3) -> (3,4) and (4,3) ==> (3, 3)\n",
    "print('Output:\\n', output)"
   ]
  },
  {
   "cell_type": "markdown",
   "metadata": {},
   "source": [
    "![what's really happening](../assets/tests/transpose-weights.png)\n",
    "\n",
    "![bias adding](../assets/tests/bias-add.png)"
   ]
  }
 ],
 "metadata": {
  "kernelspec": {
   "display_name": "Python 3",
   "language": "python",
   "name": "python3"
  },
  "language_info": {
   "codemirror_mode": {
    "name": "ipython",
    "version": 3
   },
   "file_extension": ".py",
   "mimetype": "text/x-python",
   "name": "python",
   "nbconvert_exporter": "python",
   "pygments_lexer": "ipython3",
   "version": "3.10.11"
  }
 },
 "nbformat": 4,
 "nbformat_minor": 2
}
