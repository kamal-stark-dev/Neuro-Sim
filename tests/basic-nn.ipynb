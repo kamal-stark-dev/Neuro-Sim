{
 "cells": [
  {
   "cell_type": "markdown",
   "metadata": {},
   "source": [
    "### Basic NN -\n",
    "1. Input Layer\n",
    "    - Inputs\n",
    "    - Weights\n",
    "    - Biases\n",
    "2. Hidden Layer\n",
    "    - Submission\n",
    "    - Activation\n",
    "3. Output Layer"
   ]
  },
  {
   "cell_type": "code",
   "execution_count": 1,
   "metadata": {},
   "outputs": [
    {
     "name": "stdout",
     "output_type": "stream",
     "text": [
      "Output: 7.5\n"
     ]
    }
   ],
   "source": [
    "# inputs, weights and bias\n",
    "inputs = [1, 2, 3]\n",
    "weights = [-1, 2, 0.5]\n",
    "bias = 3\n",
    "\n",
    "# output = sum(intputs[i] * weights[i]) + bias\n",
    "output = bias\n",
    "for i, j in zip(inputs, weights):\n",
    "    output += i * j\n",
    "\n",
    "print('Output:', output)"
   ]
  },
  {
   "cell_type": "code",
   "execution_count": 2,
   "metadata": {},
   "outputs": [
    {
     "name": "stdout",
     "output_type": "stream",
     "text": [
      "Output: [4.800000000000001, 1.21, 2.385]\n"
     ]
    }
   ],
   "source": [
    "# let's add 3 nodes in the next layer\n",
    "\n",
    "inputs = [1, 2, 3, 2.5]\n",
    "\n",
    "weights_1 = [0.2, 0.8, -0.5, 1.0]\n",
    "weights_2 = [0.5, -0.91, 0.26, -0.5]\n",
    "weights_3 = [-0.26, -0.27, 0.17, 0.87]\n",
    "\n",
    "bias_1 = 2\n",
    "bias_2 = 3\n",
    "bias_3 = 0.5\n",
    "\n",
    "# layer 1\n",
    "output_1 = bias_1\n",
    "for i, j in zip(inputs, weights_1):\n",
    "    output_1 += i * j\n",
    "\n",
    "# layer 2\n",
    "output_2 = bias_2\n",
    "for i, j in zip(inputs, weights_2):\n",
    "    output_2 += i * j\n",
    "\n",
    "# layer 3\n",
    "output_3 = bias_3\n",
    "for i, j in zip(inputs, weights_3):\n",
    "    output_3 += i * j\n",
    "\n",
    "output = [output_1, output_2, output_3]\n",
    "\n",
    "print(f'Output: {output}')"
   ]
  },
  {
   "cell_type": "code",
   "execution_count": 3,
   "metadata": {},
   "outputs": [
    {
     "name": "stdout",
     "output_type": "stream",
     "text": [
      "Output: [4.800000000000001, 1.21, 2.385]\n"
     ]
    }
   ],
   "source": [
    "inputs = [1, 2, 3, 2.5]\n",
    "node_weights = [\n",
    "    [0.2, 0.8, -0.5, 1.0],\n",
    "    [0.5, -0.91, 0.26, -0.5],\n",
    "    [-0.26, -0.27, 0.17, 0.87]\n",
    "]\n",
    "biases = [2, 3, 0.5]\n",
    "\n",
    "# funtional dynamic approach\n",
    "outputs = []\n",
    "for weights, bias in zip(node_weights, biases):\n",
    "    node_output = bias\n",
    "    for input, weight in zip(inputs, weights):\n",
    "        node_output += input * weight\n",
    "    outputs.append(node_output)\n",
    "\n",
    "print(f\"Output: {outputs}\")"
   ]
  },
  {
   "cell_type": "markdown",
   "metadata": {},
   "source": [
    "### Difference between weights and biases -\n",
    "\n",
    "**Weights** are used to scale up or scale down a certain input value -> `input * weight` <br>\n",
    "- weights determine how much importance to give to a node's input influencing the final output.\n",
    "$$\n",
    "input = -0.5, weight = 0.7 \\\\\n",
    "input * weight = -0.5 * 0.7 = -0.35\n",
    "$$\n",
    "\n",
    "**Biases** are used to produce non-zero values by adding some constant value -> `input + bias` <br>\n",
    "- biases are used to adjust decision boundary, allowing better fitting of training data.\n",
    "$$\n",
    "input = -0.5, bias = 0.7 \\\\\n",
    "input + bias = -0.5 + 0.7 = 0.2\n",
    "$$\n",
    "\n",
    "<div style=\"text-align: center;\">\n",
    "    <br>\n",
    "    <h3>Effect of <i>Bias</i> and <i>Weight</i> -</h3> \n",
    "    <img src=\"../assets/tests/bias-&-weight-effect.png\" alt=\"Effect of Bias and Weights\" style=\" width: 60%;\">\n",
    "</div>"
   ]
  },
  {
   "cell_type": "markdown",
   "metadata": {},
   "source": [
    "### Shape - \n",
    "$$\n",
    "Array: [1, 4, 2, 8, 9] \\\\ Shape: (5,), \\ Type: 1D \\ Aarray, \\ Vector\n",
    "\\\\ \\ \\\\\n",
    "2D Array: [ \\ [1, 2, 3], \\ [4, 5, 6] \\ ] \\\\ Shape: (2, 3), \\ Type: 2D \\ Array, \\ Matrix\n",
    "\\\\ \\ \\\\\n",
    "3D Array: [ \\ [ \\ [1, 2], [3, 4] \\ ], \\ [ \\ [5, 6], [7, 8] \\ ] \\ ] \\\\ Shape: (2, 2, 2), \\ Type: 3D \\ Array, \\ Tensor\n",
    "$$\n",
    "\n",
    "### Dot Product - \n",
    "$$\n",
    "\\text{Dot Product of Vectors:} \\\\\n",
    "\\mathbf{a} = [a_1, a_2, a_3], \\ \\mathbf{b} = [b_1, b_2, b_3] \\\\\n",
    "\\mathbf{a} \\cdot \\mathbf{b} = a_1 \\cdot b_1 + a_2 \\cdot b_2 + a_3 \\cdot b_3 \\\\\n",
    "\\\\ \\ \\\\\n",
    "\\text{Example:} \\\\\n",
    "\\mathbf{a} = [1, 2, 3], \\ \\mathbf{b} = [4, 5, 6] \\\\\n",
    "\\mathbf{a} \\cdot \\mathbf{b} = 1 \\cdot 4 + 2 \\cdot 5 + 3 \\cdot 6 = 4 + 10 + 18 = 32\n",
    "$$"
   ]
  },
  {
   "cell_type": "code",
   "execution_count": 4,
   "metadata": {},
   "outputs": [],
   "source": [
    "# importing numpy for complex operations\n",
    "import numpy as np"
   ]
  },
  {
   "cell_type": "code",
   "execution_count": 5,
   "metadata": {},
   "outputs": [
    {
     "name": "stdout",
     "output_type": "stream",
     "text": [
      "Output: 4.8\n"
     ]
    }
   ],
   "source": [
    "# dot product\n",
    "inputs = [1, 2, 3, 2.5]\n",
    "weights = [0.2, 0.8, -0.5, 1.0]\n",
    "bias = 2\n",
    "\n",
    "output = np.dot(inputs, weights) + bias\n",
    "print('Output:', output)"
   ]
  },
  {
   "cell_type": "code",
   "execution_count": 6,
   "metadata": {},
   "outputs": [
    {
     "name": "stdout",
     "output_type": "stream",
     "text": [
      "Output: [4.8   1.21  2.385]\n"
     ]
    },
    {
     "data": {
      "text/plain": [
       "\"\\nWhat's happening ?\\n\\n>> np.dot(weights, inputs) = [np.dot(weights[0], inputs), np.dot(weights[1], inputs), np.dot(weights[2], inputs)] = [2.8, -1.79, 1.885]\\n\\n>> [2.8, -1.79, 1.885] + [2, 3, 0.5] = [4.8, 1.21, 2.385] (result)\\n\""
      ]
     },
     "execution_count": 6,
     "metadata": {},
     "output_type": "execute_result"
    }
   ],
   "source": [
    "# dot product for layers\n",
    "inputs = [1, 2, 3, 2.5]\n",
    "weights = [\n",
    "    [0.2, 0.8, -0.5, 1.0],\n",
    "    [0.5, -0.91, 0.26, -0.5],\n",
    "    [-0.26, -0.27, 0.17, 0.87]\n",
    "]\n",
    "biases = [2, 3, 0.5]\n",
    "\n",
    "outputs = np.dot(weights, inputs) + biases # NOTE: this time we have put weights first (can't interchange them)\n",
    "print('Output:', outputs)\n",
    "\n",
    "\"\"\"\n",
    "What's happening ?\n",
    "\n",
    ">> np.dot(weights, inputs) = [np.dot(weights[0], inputs), np.dot(weights[1], inputs), np.dot(weights[2], inputs)] = [2.8, -1.79, 1.885]\n",
    "\n",
    ">> [2.8, -1.79, 1.885] + [2, 3, 0.5] = [4.8, 1.21, 2.385] (result)\n",
    "\"\"\""
   ]
  },
  {
   "cell_type": "code",
   "execution_count": 7,
   "metadata": {},
   "outputs": [
    {
     "name": "stdout",
     "output_type": "stream",
     "text": [
      "Output:\n",
      " [[ 4.8    1.21   2.385]\n",
      " [ 8.9   -1.81   0.2  ]\n",
      " [ 1.41   1.051  0.026]]\n"
     ]
    }
   ],
   "source": [
    "\"\"\"\n",
    "We'll now be using batches for multiple layers and nodes. But why batches?\n",
    "- helps with generalization (https://youtu.be/TEWy9vZcxW4?si=yWBcVOBTcUBNLZOf&t=295)\n",
    "- can calculated things in parallel (GPU (100s of cores) > CPU (8-12 cores))\n",
    "\n",
    "But why not just give all the data samples at once (why batches)?\n",
    "- could lead to overfitting\n",
    "\n",
    "A batch size of `32` is commonly used. (but it can be more or less)\n",
    "\"\"\"\n",
    "\n",
    "# shape - (3, 4)\n",
    "inputs = [\n",
    "    [1, 2, 3, 2.5],\n",
    "    [2, 5, -1, 2],\n",
    "    [-1.5, 2.7, 3.3, -0.8]\n",
    "]\n",
    "# shape - (3, 4)\n",
    "weights = [\n",
    "    [0.2, 0.8, -0.5, 1.0],\n",
    "    [0.5, -0.91, 0.26, -0.5],\n",
    "    [-0.26, -0.27, 0.17, 0.87]\n",
    "]\n",
    "biases = [2, 3, 0.5]\n",
    "\n",
    "# we can't do np.dot(weights, inputs) --> will give shape error `ValueError: shapes (3,4) and (3,4) not aligned: 4 (dim 1) != 3 (dim 0)`\n",
    "\n",
    "output = np.dot(inputs, np.array(weights).T) + biases # the dimensions of weights.T is (4, 3) -> (3,4) and (4,3) ==> (3, 3)\n",
    "print('Output:\\n', output)"
   ]
  },
  {
   "cell_type": "markdown",
   "metadata": {},
   "source": [
    "Transpose of weights ~ <br>\n",
    "<img src=\"../assets/tests/transpose-weights.png\" width=\"600px\">\n",
    "\n",
    "Adding the biases ~ <br>\n",
    "<img src=\"../assets/tests/bias-add.png\" width=\"600px\">"
   ]
  },
  {
   "cell_type": "code",
   "execution_count": 8,
   "metadata": {},
   "outputs": [
    {
     "name": "stdout",
     "output_type": "stream",
     "text": [
      "Layer 2 Output:\n",
      " [[ 0.5031  -1.04185 -2.03875]\n",
      " [ 0.2434  -2.7332  -5.7633 ]\n",
      " [-0.99314  1.41254 -0.35655]]\n"
     ]
    }
   ],
   "source": [
    "# add multiple layers\n",
    "\n",
    "inputs = [\n",
    "    [1, 2, 3, 2.5],\n",
    "    [2, 5, -1, 2],\n",
    "    [-1.5, 2.7, 3.3, -0.8]\n",
    "]\n",
    "\n",
    "# later 1\n",
    "weights_1 = [\n",
    "    [0.2, 0.8, -0.5, 1.0],\n",
    "    [0.5, -0.91, 0.26, -0.5],\n",
    "    [-0.26, -0.27, 0.17, 0.87]\n",
    "]\n",
    "biases_1 = [2, 3, 0.5]\n",
    "\n",
    "# layer 2\n",
    "weights_2 = [\n",
    "    [0.1, -0.14, 0.5],\n",
    "    [-0.5, 0.12, -0.33],\n",
    "    [-0.44, 0.73, -0.13]\n",
    "]\n",
    "biases_2 = [-1, 2, -0.5]\n",
    "\n",
    "layer_1_outputs = np.dot(inputs, np.array(weights_1).T) + biases_1\n",
    "layer_2_outputs = np.dot(layer_1_outputs, np.array(weights_2).T) + biases_2\n",
    "\n",
    "print('Layer 2 Output:\\n',layer_2_outputs)"
   ]
  },
  {
   "cell_type": "code",
   "execution_count": 9,
   "metadata": {},
   "outputs": [
    {
     "name": "stdout",
     "output_type": "stream",
     "text": [
      "Layer 1 Output:\n",
      " [[ 0.10758131  1.03983522  0.24462411  0.31821498  0.18851053]\n",
      " [-0.08349796  0.70846411  0.00293357  0.44701525  0.36360538]\n",
      " [-0.50763245  0.55688422  0.07987797 -0.34889573  0.04553042]]\n",
      "Layer 2 Output:\n",
      " [[ 0.148296   -0.08397602]\n",
      " [ 0.14100315 -0.01340469]\n",
      " [ 0.20124979 -0.07290616]]\n"
     ]
    }
   ],
   "source": [
    "np.random.seed(0)\n",
    "\n",
    "# input -> X\n",
    "X = [\n",
    "    [1, 2, 3, 2.5],\n",
    "    [2, 5, -1, 2],\n",
    "    [-1.5, 2.7, 3.3, -0.8]\n",
    "]\n",
    "\n",
    "# defining 2 hidden layers\n",
    "class Layer_Dense:\n",
    "    # randomly generating weights and setting biases as zeros\n",
    "    def __init__(self, n_inputs, n_neurons):\n",
    "        self.weights = 0.1 * np.random.randn(n_inputs, n_neurons)\n",
    "        self.biases = np.zeros((1, n_neurons))\n",
    "\n",
    "    def forward(self, inputs):\n",
    "        self.output = np.dot(inputs, self.weights) + self.biases\n",
    "\n",
    "layer_1 = Layer_Dense(4, 5) # 4 is number of inputs, and 5 is number of neurons which can be any number (like 512, 256 etc...)\n",
    "layer_2 = Layer_Dense(5, 2) # 5 is the n_inputs value which needs to be same as previous neuron's width and 2 can be any number\n",
    "\n",
    "layer_1.forward(X) # will store the output in `layer_1.output`\n",
    "print('Layer 1 Output:\\n', layer_1.output)\n",
    "\n",
    "layer_2.forward(layer_1.output) # as the layer 1 output becomes intput to 2nd layer\n",
    "print('Layer 2 Output:\\n', layer_2.output)\n"
   ]
  },
  {
   "cell_type": "markdown",
   "metadata": {},
   "source": [
    "**Activation Functions - Adds non-linearity to the network ~**\n",
    "\n",
    "<img src=\"../assets/tests/activation-function-example.png\" width=\"300px\">"
   ]
  },
  {
   "cell_type": "code",
   "execution_count": 10,
   "metadata": {},
   "outputs": [
    {
     "data": {
      "image/png": "[encoded data removed]",
      "text/plain": [
       "<Figure size 640x480 with 1 Axes>"
      ]
     },
     "metadata": {},
     "output_type": "display_data"
    }
   ],
   "source": [
    "# custom made data for now - spiral data points generation for non-linear data\n",
    "np.random.seed(0)\n",
    "\n",
    "def create_data(points, classes):\n",
    "    X = np.zeros((points * classes, 2))\n",
    "    y = np.zeros(points * classes, dtype='uint8')\n",
    "\n",
    "    for class_number in range(classes):\n",
    "        ix = range(points * class_number, points * (class_number + 1))\n",
    "        r = np.linspace(0.0, 1, points) # radius\n",
    "        t = np.linspace(class_number * 4, (class_number + 1) * 4, points) + np.random.randn(points) * 0.2\n",
    "        X[ix] = np.c_[r * np.sin(t * 2.5), r * np.cos(t * 2.5)]\n",
    "        y[ix] = class_number\n",
    "    return X, y\n",
    "\n",
    "# visualization of data --> using matplotlib\n",
    "import matplotlib.pyplot as plt\n",
    "X, y = create_data(100, 3) # 3 classes for 100 points each\n",
    "\n",
    "plt.scatter(X[:, 0], X[:, 1], c=y, cmap=\"brg\")\n",
    "plt.show()"
   ]
  },
  {
   "cell_type": "code",
   "execution_count": 11,
   "metadata": {},
   "outputs": [
    {
     "name": "stdout",
     "output_type": "stream",
     "text": [
      "After using ReLU: \n",
      "activation.output = array([[0.        , 0.        , 0.        , 0.        , 0.        ],\n",
      "       [0.        , 0.00027121, 0.        , 0.00026233, 0.        ],\n",
      "       [0.        , 0.        , 0.        , 0.00029877, 0.        ],\n",
      "       ...,\n",
      "       [0.15903222, 0.        , 0.1166153 , 0.        , 0.14184746],\n",
      "       [0.16403009, 0.        , 0.15140174, 0.        , 0.14257608],\n",
      "       [0.15084316, 0.        , 0.0833516 , 0.        , 0.13780962]])\n"
     ]
    }
   ],
   "source": [
    "# ACTIVATION FUNCTIONS - to add non-linearity to our neural networks so that they can fit better\n",
    "\n",
    "# importing nnfs for data\n",
    "import nnfs\n",
    "from nnfs.datasets import spiral_data\n",
    "\n",
    "X, y = spiral_data(100, 3)\n",
    "\n",
    "inputs = [0, 2, -1, 3.3, -2.7, 1.1, 2.2, -100]\n",
    "output = []\n",
    "\n",
    "class Activation_ReLU():\n",
    "    def forward(self, inputs):\n",
    "        self.output = np.maximum(0, inputs)\n",
    "\n",
    "layer1 = Layer_Dense(2, 5)\n",
    "activation = Activation_ReLU()\n",
    "\n",
    "layer1.forward(X)\n",
    "activation.forward(layer1.output)\n",
    "\n",
    "print(f\"After using ReLU: \\n{activation.output = }\")"
   ]
  },
  {
   "cell_type": "code",
   "execution_count": 19,
   "metadata": {},
   "outputs": [
    {
     "name": "stdout",
     "output_type": "stream",
     "text": [
      "exp_values = [121.51041751873483, 3.353484652549023, 10.859062664920513]\n",
      "norm_values = [0.8952826639572619, 0.024708306782099374, 0.0800090292606387]\n",
      "sum(norm_values) = 0.9999999999999999\n"
     ]
    }
   ],
   "source": [
    "# SOFTMAX ACTIVATION FUNCTION\n",
    "layer_outputs = [4.8, 1.21, 2.385]\n",
    "\n",
    "# E = 2.7182812846 # euler's number\n",
    "import math\n",
    "E = math.e\n",
    "\n",
    "exp_values = [E ** num for num in layer_outputs]\n",
    "print(f'{exp_values = }')\n",
    "\n",
    "# let's normalize these to get the probabilities\n",
    "norm_base = sum(exp_values)\n",
    "norm_values = [exp / norm_base for exp in exp_values]\n",
    "print(f'{norm_values = }')\n",
    "\n",
    "# sum of all the probabilites should be close to 1\n",
    "print(f'{sum(norm_values) = }')"
   ]
  },
  {
   "cell_type": "markdown",
   "metadata": {},
   "source": [
    "**_Softmax Activation_** \n",
    "\n",
    "$$\n",
    "S_{i, j} = \\frac{e^{z_{i,j}}}{\\sum^{L}_{l=1}e^{z_{i,j}}}\n",
    "$$\n",
    "\n",
    "<br>\n",
    "<img src=\"../assets/tests/softmax-function.png\" width=\"600px\">"
   ]
  },
  {
   "cell_type": "code",
   "execution_count": 44,
   "metadata": {},
   "outputs": [
    {
     "name": "stdout",
     "output_type": "stream",
     "text": [
      "[[0.33333333 0.33333333 0.33333333]\n",
      " [0.33342336 0.33328671 0.33328993]\n",
      " [0.33346444 0.33326301 0.33327255]\n",
      " [0.33350302 0.33324084 0.33325615]\n",
      " [0.33373331 0.33313544 0.33313124]]\n"
     ]
    }
   ],
   "source": [
    "# applying the softmax for a batch\n",
    "\n",
    "class Activation_SoftMax:\n",
    "    def forward(self, inputs):\n",
    "        # we are subtracting with max to keep it in bounded, now 1 is the max value\n",
    "        exp_values = np.exp(inputs - np.max(inputs, axis=1, keepdims=True)) # axis(1) - as inputs is a batch we need max for each row not entire batch\n",
    "        probabilities = exp_values / np.sum(exp_values, axis=1, keepdims=True)\n",
    "        self.output = probabilities\n",
    "\n",
    "X, y = spiral_data(samples=100, classes=3)\n",
    "dense1 = Layer_Dense(2, 3) # input is (x, y) data so 2\n",
    "relu = Activation_ReLU()\n",
    "\n",
    "dense2 = Layer_Dense(3, 3)\n",
    "softmax = Activation_SoftMax()\n",
    "\n",
    "dense1.forward(X)\n",
    "relu.forward(dense1.output)\n",
    "\n",
    "dense2.forward(relu.output)\n",
    "softmax.forward(dense2.output)\n",
    "\n",
    "print(softmax.output[:5]) # will be 300 values"
   ]
  }
 ],
 "metadata": {
  "kernelspec": {
   "display_name": "Python 3",
   "language": "python",
   "name": "python3"
  },
  "language_info": {
   "codemirror_mode": {
    "name": "ipython",
    "version": 3
   },
   "file_extension": ".py",
   "mimetype": "text/x-python",
   "name": "python",
   "nbconvert_exporter": "python",
   "pygments_lexer": "ipython3",
   "version": "3.10.11"
  }
 },
 "nbformat": 4,
 "nbformat_minor": 2
}
